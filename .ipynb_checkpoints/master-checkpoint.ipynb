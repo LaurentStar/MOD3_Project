{
 "cells": [
  {
   "cell_type": "markdown",
   "metadata": {},
   "source": [
    "# Imports"
   ]
  },
  {
   "cell_type": "code",
   "execution_count": 2,
   "metadata": {},
   "outputs": [],
   "source": [
    "import pandas as pd\n",
    "import json\n",
    "import requests\n",
    "import pickle \n",
    "import matplotlib.pyplot as plt\n",
    "%matplotlib inline"
   ]
  },
  {
   "cell_type": "markdown",
   "metadata": {},
   "source": [
    "# Global Stuff"
   ]
  },
  {
   "cell_type": "code",
   "execution_count": 3,
   "metadata": {},
   "outputs": [],
   "source": [
    "_STATES =  {'Alabama' : 'AL',\n",
    "'Alaska' : 'AK',\n",
    "'Arizona' : 'AZ',\n",
    "'Arkansas' : 'AR',\n",
    "'California' : 'CA',\n",
    "'Colorado' : 'CO',\n",
    "'Connecticut' : 'CT',\n",
    "'District of Columbia' : 'DC', #This list didn't include DC as a state.... so whoever made this list can fuck off. \n",
    "'Delaware' : 'DE',\n",
    "'Florida' : 'FL',\n",
    "'Georgia' : 'GA',\n",
    "'Hawaii' : 'HI',\n",
    "'Idaho' : 'ID',\n",
    "'Illinois' : 'IL',\n",
    "'Indiana' : 'IN',\n",
    "'Iowa' : 'IA',\n",
    "'Kansas' : 'KS',\n",
    "'Kentucky' : 'KY',\n",
    "'Louisiana' : 'LA',\n",
    "'Maine' : 'ME',\n",
    "'Maryland' : 'MD',\n",
    "'Massachusetts' : 'MA',\n",
    "'Michigan' : 'MI',\n",
    "'Minnesota' : 'MN',\n",
    "'Mississippi' : 'MS',\n",
    "'Missouri' : 'MO',\n",
    "'Montana' : 'MT',\n",
    "'Nebraska' : 'NE',\n",
    "'Nevada' : 'NV',\n",
    "'New Hampshire' : 'NH',\n",
    "'New Jersey' : 'NJ',\n",
    "'New Mexico' : 'NM',\n",
    "'New York' : 'NY',\n",
    "'North Carolina' : 'NC',\n",
    "'North Dakota' : 'ND',\n",
    "'Ohio' : 'OH',\n",
    "'Oklahoma' : 'OK',\n",
    "'Oregon' : 'OR',\n",
    "'Pennsylvania' : 'PA',\n",
    "'Rhode Island' : 'RI',\n",
    "'South Carolina' : 'SC',\n",
    "'South Dakota' : 'SD',\n",
    "'Tennessee' : 'TN',\n",
    "'Texas' : 'TX',\n",
    "'Utah' : 'UT',\n",
    "'Vermont' : 'VT',\n",
    "'Virginia' : 'VA',\n",
    "'Washington' : 'WA',\n",
    "'West Virginia' : 'WV',\n",
    "'Wisconsin' : 'WI',\n",
    "'Wyoming' : 'WY'\n",
    "}"
   ]
  },
  {
   "cell_type": "markdown",
   "metadata": {},
   "source": [
    "# <span style='color:red'>Load Data</span>\n",
    "\n",
    "#### <span style='color:red'>DO NOT CALL THIS CELL CALL THE NEXT ONE BELOW!!!!</span>"
   ]
  },
  {
   "cell_type": "code",
   "execution_count": 75,
   "metadata": {},
   "outputs": [],
   "source": [
    "# DO NOT CALL THIS CELL!!!!!\n",
    "url =  \"https://api.eia.gov/series\" \n",
    "\n",
    "PARMS = {'api_key':'106ca842268ae4f59b5872302c603bf2',\n",
    "         'series_id': 'EMISS.CO2-TOTV-TT-TO-DC.A' \n",
    "        }\n",
    "\n",
    "data = []\n",
    "\n",
    "\n",
    "#Initialize an empty dataframe to begin\n",
    "df = pd.DataFrame()\n",
    "\n",
    "# Call the api multiple times for each state\n",
    "for state in _STATES.values():\n",
    "    \n",
    "    # Reconstruct the series_id string to reflect the state\n",
    "    PARMS['series_id'] = PARMS['series_id'][:21] + state + '.A'  \n",
    "    response = requests.get(url, params=PARMS)\n",
    "    data.append(response)\n",
    "    \n",
    "\n",
    "# Iterate through all the responses saved in the list called 'data'\n",
    "for tmp in data:\n",
    "    \n",
    "    #Save the dataframe to a temporary spot called '_'\n",
    "    _ = pd.DataFrame(tmp.json()['series'][0]['data'], columns = ['Year', 'Carbon_Emissions'])\n",
    "                     \n",
    "    # Create a third column called 'State' and set the defualt value to the name of the state                 \n",
    "    _['State'] = tmp.json()['series'][0]['name'].split(', ')[2]\n",
    "                     \n",
    "    #update our main dataframe with additional rows\n",
    "    df = pd.concat([df, _]) \n",
    "    \n",
    "# Pickle the data for safe keeping\n",
    "with open('dataframe_pickle', 'ab') as file:\n",
    "    pickle.dump(df, file)"
   ]
  },
  {
   "cell_type": "markdown",
   "metadata": {},
   "source": [
    "# <span style='color:green'>Load Data</span>\n",
    "\n",
    "#### <span style='color:green'>Load the data from the pickles</span>"
   ]
  },
  {
   "cell_type": "code",
   "execution_count": 4,
   "metadata": {},
   "outputs": [],
   "source": [
    "with open('dataframe_pickle', 'rb') as file:\n",
    "    df = pickle.load(file)"
   ]
  },
  {
   "cell_type": "markdown",
   "metadata": {},
   "source": [
    "# Explore Data"
   ]
  },
  {
   "cell_type": "code",
   "execution_count": 5,
   "metadata": {},
   "outputs": [
    {
     "data": {
      "text/html": [
       "<div>\n",
       "<style scoped>\n",
       "    .dataframe tbody tr th:only-of-type {\n",
       "        vertical-align: middle;\n",
       "    }\n",
       "\n",
       "    .dataframe tbody tr th {\n",
       "        vertical-align: top;\n",
       "    }\n",
       "\n",
       "    .dataframe thead th {\n",
       "        text-align: right;\n",
       "    }\n",
       "</style>\n",
       "<table border=\"1\" class=\"dataframe\">\n",
       "  <thead>\n",
       "    <tr style=\"text-align: right;\">\n",
       "      <th></th>\n",
       "      <th>Year</th>\n",
       "      <th>Carbon_Emissions</th>\n",
       "      <th>State</th>\n",
       "    </tr>\n",
       "  </thead>\n",
       "  <tbody>\n",
       "    <tr>\n",
       "      <th>0</th>\n",
       "      <td>2017</td>\n",
       "      <td>109.018634</td>\n",
       "      <td>Alabama</td>\n",
       "    </tr>\n",
       "    <tr>\n",
       "      <th>1</th>\n",
       "      <td>2016</td>\n",
       "      <td>114.872696</td>\n",
       "      <td>Alabama</td>\n",
       "    </tr>\n",
       "    <tr>\n",
       "      <th>2</th>\n",
       "      <td>2015</td>\n",
       "      <td>120.012608</td>\n",
       "      <td>Alabama</td>\n",
       "    </tr>\n",
       "    <tr>\n",
       "      <th>3</th>\n",
       "      <td>2014</td>\n",
       "      <td>123.080771</td>\n",
       "      <td>Alabama</td>\n",
       "    </tr>\n",
       "    <tr>\n",
       "      <th>4</th>\n",
       "      <td>2013</td>\n",
       "      <td>120.732885</td>\n",
       "      <td>Alabama</td>\n",
       "    </tr>\n",
       "  </tbody>\n",
       "</table>\n",
       "</div>"
      ],
      "text/plain": [
       "   Year  Carbon_Emissions    State\n",
       "0  2017        109.018634  Alabama\n",
       "1  2016        114.872696  Alabama\n",
       "2  2015        120.012608  Alabama\n",
       "3  2014        123.080771  Alabama\n",
       "4  2013        120.732885  Alabama"
      ]
     },
     "metadata": {},
     "output_type": "display_data"
    },
    {
     "data": {
      "text/html": [
       "<div>\n",
       "<style scoped>\n",
       "    .dataframe tbody tr th:only-of-type {\n",
       "        vertical-align: middle;\n",
       "    }\n",
       "\n",
       "    .dataframe tbody tr th {\n",
       "        vertical-align: top;\n",
       "    }\n",
       "\n",
       "    .dataframe thead th {\n",
       "        text-align: right;\n",
       "    }\n",
       "</style>\n",
       "<table border=\"1\" class=\"dataframe\">\n",
       "  <thead>\n",
       "    <tr style=\"text-align: right;\">\n",
       "      <th></th>\n",
       "      <th>count</th>\n",
       "      <th>mean</th>\n",
       "      <th>std</th>\n",
       "      <th>min</th>\n",
       "      <th>25%</th>\n",
       "      <th>50%</th>\n",
       "      <th>75%</th>\n",
       "      <th>max</th>\n",
       "    </tr>\n",
       "  </thead>\n",
       "  <tbody>\n",
       "    <tr>\n",
       "      <th>Carbon_Emissions</th>\n",
       "      <td>1900.0</td>\n",
       "      <td>106.007554</td>\n",
       "      <td>108.0786</td>\n",
       "      <td>4.075693</td>\n",
       "      <td>39.883195</td>\n",
       "      <td>75.395415</td>\n",
       "      <td>130.162606</td>\n",
       "      <td>717.958665</td>\n",
       "    </tr>\n",
       "  </tbody>\n",
       "</table>\n",
       "</div>"
      ],
      "text/plain": [
       "                   count        mean       std       min        25%  \\\n",
       "Carbon_Emissions  1900.0  106.007554  108.0786  4.075693  39.883195   \n",
       "\n",
       "                        50%         75%         max  \n",
       "Carbon_Emissions  75.395415  130.162606  717.958665  "
      ]
     },
     "metadata": {},
     "output_type": "display_data"
    },
    {
     "name": "stdout",
     "output_type": "stream",
     "text": [
      "<class 'pandas.core.frame.DataFrame'>\n",
      "Int64Index: 1900 entries, 0 to 37\n",
      "Data columns (total 3 columns):\n",
      "Year                1900 non-null object\n",
      "Carbon_Emissions    1900 non-null float64\n",
      "State               1900 non-null object\n",
      "dtypes: float64(1), object(2)\n",
      "memory usage: 59.4+ KB\n"
     ]
    },
    {
     "data": {
      "text/plain": [
       "None"
      ]
     },
     "metadata": {},
     "output_type": "display_data"
    },
    {
     "name": "stdout",
     "output_type": "stream",
     "text": [
      "Shape = (1900, 3)\n"
     ]
    }
   ],
   "source": [
    "display(df.head())\n",
    "display(df.describe().T)\n",
    "display(df.info())\n",
    "print('Shape =', df.shape)"
   ]
  },
  {
   "cell_type": "code",
   "execution_count": 37,
   "metadata": {},
   "outputs": [
    {
     "data": {
      "image/png": "[encoded data removed]",
      "text/plain": [
       "<Figure size 720x1440 with 3 Axes>"
      ]
     },
     "metadata": {
      "needs_background": "light"
     },
     "output_type": "display_data"
    }
   ],
   "source": [
    "fig, axes = plt.subplots(nrows=3, ncols=1, figsize=(10,20))\n",
    "\n",
    "axes[0].hist(df['Carbon_Emissions'])\n",
    "axes[1].barh(y=df.set_index('State').index, width=df['Carbon_Emissions'])\n",
    "plt.tight_layout()"
   ]
  },
  {
   "cell_type": "code",
   "execution_count": null,
   "metadata": {},
   "outputs": [],
   "source": []
  }
 ],
 "metadata": {
  "kernelspec": {
   "display_name": "Python 3",
   "language": "python",
   "name": "python3"
  },
  "language_info": {
   "codemirror_mode": {
    "name": "ipython",
    "version": 3
   },
   "file_extension": ".py",
   "mimetype": "text/x-python",
   "name": "python",
   "nbconvert_exporter": "python",
   "pygments_lexer": "ipython3",
   "version": "3.7.3"
  }
 },
 "nbformat": 4,
 "nbformat_minor": 4
}
