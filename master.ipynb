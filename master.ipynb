{
 "cells": [
  {
   "cell_type": "markdown",
   "metadata": {},
   "source": [
    "https://www.eia.gov/opendata/qb.php?category=2251604\n",
    "\n",
    "https://www.nationalgeographic.org/maps/united-states-regions/"
   ]
  },
  {
   "cell_type": "markdown",
   "metadata": {},
   "source": [
    "# Imports"
   ]
  },
  {
   "cell_type": "code",
   "execution_count": 3,
   "metadata": {},
   "outputs": [],
   "source": [
    "from itertools import combinations\n",
    "import json\n",
    "import matplotlib.pyplot as plt\n",
    "import numpy as np\n",
    "import os\n",
    "import pandas as pd\n",
    "import pickle \n",
    "import requests\n",
    "import seaborn as sns\n",
    "from scipy import stats\n",
    "\n",
    "%matplotlib inline"
   ]
  },
  {
   "cell_type": "markdown",
   "metadata": {},
   "source": [
    "\n",
    "# Methods/ Globals/ Constants "
   ]
  },
  {
   "cell_type": "code",
   "execution_count": 30,
   "metadata": {},
   "outputs": [],
   "source": [
    "%run -i \"scripts//methods.py\"\n",
    "%run -i \"scripts//global_constants_attributes_script.py\"\n",
    "%run -i \"scripts//global_attributes_script.py\""
   ]
  },
  {
   "cell_type": "markdown",
   "metadata": {},
   "source": [
    "# Data Prep & Visuals"
   ]
  },
  {
   "cell_type": "code",
   "execution_count": 33,
   "metadata": {},
   "outputs": [],
   "source": [
    "%run -i \"scripts//data_prep.py\""
   ]
  },
  {
   "cell_type": "markdown",
   "metadata": {},
   "source": [
    "# Explore Data"
   ]
  },
  {
   "cell_type": "code",
   "execution_count": null,
   "metadata": {},
   "outputs": [],
   "source": [
    "display(df.head())\n",
    "display(df.describe().T)\n",
    "display(df.info())\n",
    "print('Shape =', df.shape)"
   ]
  },
  {
   "cell_type": "code",
   "execution_count": null,
   "metadata": {},
   "outputs": [],
   "source": [
    "fig, axes = plt.subplots(nrows=2, ncols=1, figsize=(10,20))\n",
    "\n",
    "axes[0].set_title('Carbon Emissions Distribution')\n",
    "axes[0].hist(df['Carbon_Emissions'])\n",
    "\n",
    "\n",
    "\n",
    "axes[1].barh(y=df.sort_values(by=['Carbon_Emissions'])['State'], \n",
    "             width=df.sort_values(by=['Carbon_Emissions'])['Carbon_Emissions'])\n",
    "axes[1].set_title('Carbon Emissions by State')\n",
    "plt.tight_layout()"
   ]
  },
  {
   "cell_type": "code",
   "execution_count": null,
   "metadata": {},
   "outputs": [],
   "source": [
    "plt.figure(figsize=(50, 50))\n",
    "sns.barplot(df.Carbon_Emissions, df.State, color='r')\n",
    "plt.xlabel('CO2_Emissions(million metric tons)')\n",
    "plt.ylabel('US States')\n",
    "plt.title('Total CO2 Emissions by State')\n",
    "sns.set(context='notebook',\n",
    "        style='darkgrid',\n",
    "        palette='deep',\n",
    "        font='sans-serif',\n",
    "        font_scale=5)"
   ]
  },
  {
   "cell_type": "markdown",
   "metadata": {},
   "source": [
    "# Parse Date"
   ]
  },
  {
   "cell_type": "code",
   "execution_count": null,
   "metadata": {},
   "outputs": [],
   "source": [
    "df['Region'] = df['State'].apply(lambda state: region_maker(state, _REGIONS))"
   ]
  },
  {
   "cell_type": "markdown",
   "metadata": {},
   "source": [
    "# Hypothesis Tests\n",
    "\n",
    "#### nCk 5 choose 2 combinations of the 'Two Sample T Test'\n",
    "We compare each regions carbon emissions\n",
    "    \n",
    "    Regions: \n",
    "        south_east\n",
    "        north_east \n",
    "        mid_west\n",
    "        west_coast \n",
    "        south_west"
   ]
  },
  {
   "cell_type": "code",
   "execution_count": null,
   "metadata": {},
   "outputs": [],
   "source": [
    "se = df[df['Region'] == 'south_east']['Carbon_Emissions'].to_numpy()\n",
    "ne = df[df['Region'] == 'north_east']['Carbon_Emissions'].to_numpy()\n",
    "mw = df[df['Region'] == 'mid_west']['Carbon_Emissions'].to_numpy()\n",
    "wc = df[df['Region'] == 'west_coast']['Carbon_Emissions'].to_numpy()\n",
    "sw = df[df['Region'] == 'south_west']['Carbon_Emissions'].to_numpy()\n",
    "\n",
    "regions = ['se', 'ne', 'mw', 'wc', 'sw']\n",
    "nCk_regions = list(combinations(regions, 2))\n",
    "hypothesis = []\n",
    "\n",
    "for region_pair in nCk_regions:\n",
    "    a = region_pair[0]\n",
    "    b = region_pair[1]\n",
    "    exec(f\"hypothesis.append((stats.ttest_ind({a}, {b}), {region_pair}))\")"
   ]
  },
  {
   "cell_type": "code",
   "execution_count": null,
   "metadata": {},
   "outputs": [],
   "source": [
    "hypothesis"
   ]
  },
  {
   "cell_type": "code",
   "execution_count": null,
   "metadata": {},
   "outputs": [],
   "source": [
    "population_df.columns = population_df.iloc[2]\n",
    "\n",
    "population_df.rename(columns = {np.nan: 'States',         \n",
    "                                'Census': 'Census', \n",
    "                                'Estimates Base': 'Estimates Base',             \n",
    "                                2010 : 2010,\n",
    "                                2011.0 : 2011,\n",
    "                                2012.0 : 2012,\n",
    "                                2013.0 : 2013,\n",
    "                                2014.0 : 2014,\n",
    "                                2015.0 : 2015,           \n",
    "                                2016.0 : 2016,           \n",
    "                                2017.0 : 2017,           \n",
    "                                2018.0 : 2018,\n",
    "                                2019.0 : 2019 \n",
    "                               }, \n",
    "                     inplace=True)\n",
    "\n",
    "population_df.drop(range(3), inplace=True)\n",
    "\n",
    "population_df.drop(list(range(59, 66)), inplace=True)\n",
    "\n",
    "population_df['States'] = population_df['States'].map(lambda x: x.replace('.', ''))\n",
    "\n",
    "population_df = population_df.T\n",
    "\n",
    "population_df.columns = population_df.iloc[0]\n",
    "\n",
    "population_df.reset_index(inplace = True)\n",
    "\n",
    "population_df.rename(columns = {2: 'Year'}, inplace =True)\n",
    "\n",
    "population_df.drop(range(3), inplace = True)\n",
    "\n",
    "population_df.reset_index(inplace = True)\n",
    "\n",
    "population_df.drop(columns=['index'], inplace=True)\n",
    "\n",
    "population_df.index.name = None\n",
    "\n",
    "population_df.columns = population_df.columns.get_level_values(0)"
   ]
  },
  {
   "cell_type": "code",
   "execution_count": null,
   "metadata": {},
   "outputs": [],
   "source": [
    "stats.chisquare([16, 18, 16, 14, 12, 12])"
   ]
  },
  {
   "cell_type": "code",
   "execution_count": null,
   "metadata": {},
   "outputs": [],
   "source": []
  },
  {
   "cell_type": "code",
   "execution_count": 32,
   "metadata": {},
   "outputs": [],
   "source": []
  },
  {
   "cell_type": "code",
   "execution_count": null,
   "metadata": {},
   "outputs": [],
   "source": []
  }
 ],
 "metadata": {
  "kernelspec": {
   "display_name": "Python 3",
   "language": "python",
   "name": "python3"
  },
  "language_info": {
   "codemirror_mode": {
    "name": "ipython",
    "version": 3
   },
   "file_extension": ".py",
   "mimetype": "text/x-python",
   "name": "python",
   "nbconvert_exporter": "python",
   "pygments_lexer": "ipython3",
   "version": "3.7.3"
  }
 },
 "nbformat": 4,
 "nbformat_minor": 4
}
