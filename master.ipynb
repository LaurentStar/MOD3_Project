{
 "cells": [
  {
   "cell_type": "markdown",
   "metadata": {},
   "source": [
    "# Module 3 Project"
   ]
  },
  {
   "cell_type": "markdown",
   "metadata": {},
   "source": [
    "# Imports\n",
    "\n"
   ]
  },
  {
   "cell_type": "code",
   "execution_count": 1,
   "metadata": {},
   "outputs": [],
   "source": [
    "\n",
    "import pandas as pd\n",
    "import json\n",
    "import requests\n",
    "import matplotlib.pyplot as plt\n",
    "import seaborn as sns\n",
    "import scipy.stats as stats\n",
    "from math import sqrt\n",
    "import numpy as np"
   ]
  },
  {
   "cell_type": "markdown",
   "metadata": {},
   "source": [
    "# API Requests \n",
    "\n",
    "Data obtained from U.S Energy Information Administration \n",
    "\n",
    "link- https://www.eia.gov/opendata/qb.php?category=2251670"
   ]
  },
  {
   "cell_type": "code",
   "execution_count": 329,
   "metadata": {},
   "outputs": [],
   "source": [
    "\n",
    "url =  \"https://api.eia.gov/series/?api_key=106ca842268ae4f59b5872302c603bf2&series_id=EMISS.CO2-TOTV-RC-TO-DC.A\" \n",
    "response = requests.get(url)"
   ]
  },
  {
   "cell_type": "code",
   "execution_count": 330,
   "metadata": {},
   "outputs": [
    {
     "data": {
      "text/html": [
       "<div>\n",
       "<style scoped>\n",
       "    .dataframe tbody tr th:only-of-type {\n",
       "        vertical-align: middle;\n",
       "    }\n",
       "\n",
       "    .dataframe tbody tr th {\n",
       "        vertical-align: top;\n",
       "    }\n",
       "\n",
       "    .dataframe thead th {\n",
       "        text-align: right;\n",
       "    }\n",
       "</style>\n",
       "<table border=\"1\" class=\"dataframe\">\n",
       "  <thead>\n",
       "    <tr style=\"text-align: right;\">\n",
       "      <th></th>\n",
       "      <th>Year</th>\n",
       "      <th>Industrial_million_metric_tons</th>\n",
       "    </tr>\n",
       "  </thead>\n",
       "  <tbody>\n",
       "    <tr>\n",
       "      <th>0</th>\n",
       "      <td>2017</td>\n",
       "      <td>0.663171</td>\n",
       "    </tr>\n",
       "    <tr>\n",
       "      <th>1</th>\n",
       "      <td>2016</td>\n",
       "      <td>0.638522</td>\n",
       "    </tr>\n",
       "  </tbody>\n",
       "</table>\n",
       "</div>"
      ],
      "text/plain": [
       "   Year  Industrial_million_metric_tons\n",
       "0  2017                        0.663171\n",
       "1  2016                        0.638522"
      ]
     },
     "execution_count": 330,
     "metadata": {},
     "output_type": "execute_result"
    }
   ],
   "source": [
    "Texas_industrial = response.json()\n",
    "DC_Transport = pd.DataFrame(Texas_industrial['series'][0]['data'])\n",
    "DC_Transport.columns = ['Year', 'Industrial_million_metric_tons']\n",
    "DC_Transport.head(2)"
   ]
  },
  {
   "cell_type": "code",
   "execution_count": 4,
   "metadata": {},
   "outputs": [],
   "source": [
    "url =  \"https://api.eia.gov/series/?api_key=106ca842268ae4f59b5872302c603bf2&series_id=EMISS.CO2-TOTV-IC-TO-DC.A\" \n",
    "response = requests.get(url)"
   ]
  },
  {
   "cell_type": "code",
   "execution_count": 5,
   "metadata": {},
   "outputs": [
    {
     "data": {
      "text/html": [
       "<div>\n",
       "<style scoped>\n",
       "    .dataframe tbody tr th:only-of-type {\n",
       "        vertical-align: middle;\n",
       "    }\n",
       "\n",
       "    .dataframe tbody tr th {\n",
       "        vertical-align: top;\n",
       "    }\n",
       "\n",
       "    .dataframe thead th {\n",
       "        text-align: right;\n",
       "    }\n",
       "</style>\n",
       "<table border=\"1\" class=\"dataframe\">\n",
       "  <thead>\n",
       "    <tr style=\"text-align: right;\">\n",
       "      <th></th>\n",
       "      <th>Year</th>\n",
       "      <th>Residential_million_metric_tons</th>\n",
       "    </tr>\n",
       "  </thead>\n",
       "  <tbody>\n",
       "    <tr>\n",
       "      <th>0</th>\n",
       "      <td>2017</td>\n",
       "      <td>0.019913</td>\n",
       "    </tr>\n",
       "    <tr>\n",
       "      <th>1</th>\n",
       "      <td>2016</td>\n",
       "      <td>0.031299</td>\n",
       "    </tr>\n",
       "  </tbody>\n",
       "</table>\n",
       "</div>"
      ],
      "text/plain": [
       "   Year  Residential_million_metric_tons\n",
       "0  2017                         0.019913\n",
       "1  2016                         0.031299"
      ]
     },
     "execution_count": 5,
     "metadata": {},
     "output_type": "execute_result"
    }
   ],
   "source": [
    "DC_Residential = response.json()\n",
    "DC_Residential = pd.DataFrame(DC_Residential['series'][0]['data'])\n",
    "DC_Residential.columns = ['Year', 'Residential_million_metric_tons']\n",
    "DC_Residential.head(2)"
   ]
  },
  {
   "cell_type": "code",
   "execution_count": 6,
   "metadata": {},
   "outputs": [
    {
     "data": {
      "text/html": [
       "<div>\n",
       "<style scoped>\n",
       "    .dataframe tbody tr th:only-of-type {\n",
       "        vertical-align: middle;\n",
       "    }\n",
       "\n",
       "    .dataframe tbody tr th {\n",
       "        vertical-align: top;\n",
       "    }\n",
       "\n",
       "    .dataframe thead th {\n",
       "        text-align: right;\n",
       "    }\n",
       "</style>\n",
       "<table border=\"1\" class=\"dataframe\">\n",
       "  <thead>\n",
       "    <tr style=\"text-align: right;\">\n",
       "      <th></th>\n",
       "      <th>Year</th>\n",
       "      <th>Commerical_million_metric_tons</th>\n",
       "    </tr>\n",
       "  </thead>\n",
       "  <tbody>\n",
       "    <tr>\n",
       "      <th>0</th>\n",
       "      <td>2017</td>\n",
       "      <td>0.942947</td>\n",
       "    </tr>\n",
       "    <tr>\n",
       "      <th>1</th>\n",
       "      <td>2016</td>\n",
       "      <td>0.944227</td>\n",
       "    </tr>\n",
       "  </tbody>\n",
       "</table>\n",
       "</div>"
      ],
      "text/plain": [
       "   Year  Commerical_million_metric_tons\n",
       "0  2017                        0.942947\n",
       "1  2016                        0.944227"
      ]
     },
     "execution_count": 6,
     "metadata": {},
     "output_type": "execute_result"
    }
   ],
   "source": [
    "url = 'https://api.eia.gov/series/?api_key=106ca842268ae4f59b5872302c603bf2&series_id=EMISS.CO2-TOTV-CC-TO-DC.Ahttps://api.eia.gov/series/?api_key=106ca842268ae4f59b5872302c603bf2&series_id=EMISS.CO2-TOTV-CC-TO-DC.A'\n",
    "response = requests.get(url)\n",
    "DC_Commercial = response.json()\n",
    "DC_Commercial = pd.DataFrame(DC_Commercial['series'][0]['data'])\n",
    "DC_Commercial.columns = ['Year', 'Commerical_million_metric_tons']\n",
    "DC_Commercial.head(2)"
   ]
  },
  {
   "cell_type": "code",
   "execution_count": 7,
   "metadata": {},
   "outputs": [
    {
     "data": {
      "text/html": [
       "<div>\n",
       "<style scoped>\n",
       "    .dataframe tbody tr th:only-of-type {\n",
       "        vertical-align: middle;\n",
       "    }\n",
       "\n",
       "    .dataframe tbody tr th {\n",
       "        vertical-align: top;\n",
       "    }\n",
       "\n",
       "    .dataframe thead th {\n",
       "        text-align: right;\n",
       "    }\n",
       "</style>\n",
       "<table border=\"1\" class=\"dataframe\">\n",
       "  <thead>\n",
       "    <tr style=\"text-align: right;\">\n",
       "      <th></th>\n",
       "      <th>Year</th>\n",
       "      <th>Industrial_million_metric_tons</th>\n",
       "    </tr>\n",
       "  </thead>\n",
       "  <tbody>\n",
       "    <tr>\n",
       "      <th>0</th>\n",
       "      <td>2017</td>\n",
       "      <td>0.019913</td>\n",
       "    </tr>\n",
       "    <tr>\n",
       "      <th>1</th>\n",
       "      <td>2016</td>\n",
       "      <td>0.031299</td>\n",
       "    </tr>\n",
       "  </tbody>\n",
       "</table>\n",
       "</div>"
      ],
      "text/plain": [
       "   Year  Industrial_million_metric_tons\n",
       "0  2017                        0.019913\n",
       "1  2016                        0.031299"
      ]
     },
     "execution_count": 7,
     "metadata": {},
     "output_type": "execute_result"
    }
   ],
   "source": [
    "url = 'https://api.eia.gov/series/?api_key=106ca842268ae4f59b5872302c603bf2&series_id=EMISS.CO2-TOTV-IC-TO-DC.A'\n",
    "response = requests.get(url)\n",
    "DC_Industrial = response.json()  \n",
    "DC_Industrial = pd.DataFrame(DC_Industrial['series'][0]['data'])\n",
    "DC_Industrial.columns = ['Year', 'Industrial_million_metric_tons']\n",
    "DC_Industrial.head(2)\n"
   ]
  },
  {
   "cell_type": "code",
   "execution_count": null,
   "metadata": {},
   "outputs": [],
   "source": []
  },
  {
   "cell_type": "code",
   "execution_count": 8,
   "metadata": {},
   "outputs": [],
   "source": [
    "Combined_1 = DC_Commercial.merge(DC_Industrial, on= 'Year')"
   ]
  },
  {
   "cell_type": "code",
   "execution_count": 9,
   "metadata": {},
   "outputs": [],
   "source": [
    "sectors = [DC_Industrial, DC_Residential, DC_Transport]"
   ]
  },
  {
   "cell_type": "code",
   "execution_count": 10,
   "metadata": {},
   "outputs": [],
   "source": [
    "Combined_1 = DC_Commercial\n",
    "for rock in sectors:\n",
    "    Combined_1 = Combined_1.merge(rock, on= 'Year')\n",
    "    \n",
    "    "
   ]
  },
  {
   "cell_type": "code",
   "execution_count": 11,
   "metadata": {},
   "outputs": [
    {
     "data": {
      "text/html": [
       "<div>\n",
       "<style scoped>\n",
       "    .dataframe tbody tr th:only-of-type {\n",
       "        vertical-align: middle;\n",
       "    }\n",
       "\n",
       "    .dataframe tbody tr th {\n",
       "        vertical-align: top;\n",
       "    }\n",
       "\n",
       "    .dataframe thead th {\n",
       "        text-align: right;\n",
       "    }\n",
       "</style>\n",
       "<table border=\"1\" class=\"dataframe\">\n",
       "  <thead>\n",
       "    <tr style=\"text-align: right;\">\n",
       "      <th></th>\n",
       "      <th>Year</th>\n",
       "      <th>Commerical_million_metric_tons</th>\n",
       "      <th>Industrial_million_metric_tons</th>\n",
       "      <th>Residential_million_metric_tons</th>\n",
       "      <th>Transport_million_metric_tons</th>\n",
       "    </tr>\n",
       "  </thead>\n",
       "  <tbody>\n",
       "    <tr>\n",
       "      <th>0</th>\n",
       "      <td>2017</td>\n",
       "      <td>0.942947</td>\n",
       "      <td>0.019913</td>\n",
       "      <td>0.019913</td>\n",
       "      <td>0.663171</td>\n",
       "    </tr>\n",
       "    <tr>\n",
       "      <th>1</th>\n",
       "      <td>2016</td>\n",
       "      <td>0.944227</td>\n",
       "      <td>0.031299</td>\n",
       "      <td>0.031299</td>\n",
       "      <td>0.638522</td>\n",
       "    </tr>\n",
       "    <tr>\n",
       "      <th>2</th>\n",
       "      <td>2015</td>\n",
       "      <td>1.027503</td>\n",
       "      <td>0.022500</td>\n",
       "      <td>0.022500</td>\n",
       "      <td>0.826397</td>\n",
       "    </tr>\n",
       "    <tr>\n",
       "      <th>3</th>\n",
       "      <td>2014</td>\n",
       "      <td>1.017397</td>\n",
       "      <td>0.026327</td>\n",
       "      <td>0.026327</td>\n",
       "      <td>0.847534</td>\n",
       "    </tr>\n",
       "    <tr>\n",
       "      <th>4</th>\n",
       "      <td>2013</td>\n",
       "      <td>0.992099</td>\n",
       "      <td>0.020866</td>\n",
       "      <td>0.020866</td>\n",
       "      <td>0.782540</td>\n",
       "    </tr>\n",
       "  </tbody>\n",
       "</table>\n",
       "</div>"
      ],
      "text/plain": [
       "   Year  Commerical_million_metric_tons  Industrial_million_metric_tons  \\\n",
       "0  2017                        0.942947                        0.019913   \n",
       "1  2016                        0.944227                        0.031299   \n",
       "2  2015                        1.027503                        0.022500   \n",
       "3  2014                        1.017397                        0.026327   \n",
       "4  2013                        0.992099                        0.020866   \n",
       "\n",
       "   Residential_million_metric_tons  Transport_million_metric_tons  \n",
       "0                         0.019913                       0.663171  \n",
       "1                         0.031299                       0.638522  \n",
       "2                         0.022500                       0.826397  \n",
       "3                         0.026327                       0.847534  \n",
       "4                         0.020866                       0.782540  "
      ]
     },
     "execution_count": 11,
     "metadata": {},
     "output_type": "execute_result"
    }
   ],
   "source": [
    "Combined_1.head()"
   ]
  },
  {
   "cell_type": "code",
   "execution_count": 299,
   "metadata": {},
   "outputs": [],
   "source": [
    "A = Combined_1.Commerical_million_metric_tons.sum().round(2)\n",
    "B = Combined_1.Industrial_million_metric_tons.sum().round(2)\n",
    "C = Combined_1.Residential_million_metric_tons.sum().round(2)\n",
    "D= Combined_1.Transport_million_metric_tons.sum().round(2)"
   ]
  },
  {
   "cell_type": "code",
   "execution_count": 300,
   "metadata": {},
   "outputs": [
    {
     "name": "stdout",
     "output_type": "stream",
     "text": [
      "48.68 1.94 1.94 34.9\n"
     ]
    }
   ],
   "source": [
    "print (A, B, C, D)"
   ]
  },
  {
   "cell_type": "code",
   "execution_count": 320,
   "metadata": {},
   "outputs": [
    {
     "data": {
      "text/plain": [
       "Text(0.5, 1.0, 'Washington DC CO2 Emissions by Sector')"
      ]
     },
     "execution_count": 320,
     "metadata": {},
     "output_type": "execute_result"
    },
    {
     "data": {
      "image/png": "[encoded data removed]",
      "text/plain": [
       "<Figure size 864x576 with 1 Axes>"
      ]
     },
     "metadata": {},
     "output_type": "display_data"
    }
   ],
   "source": [
    "X = ['Commercial', 'Industrial',  'Residential', 'Transport']\n",
    "Y = [A, B, C, D]\n",
    "plt.figure(figsize=(12, 8))\n",
    "sns.barplot(X, Y, color='r')\n",
    "plt.ylabel('C02 Emissions (million metric tons)')\n",
    "plt.xlabel('Sectors')\n",
    "plt.title('Washington DC CO2 Emissions by Sector')"
   ]
  },
  {
   "cell_type": "code",
   "execution_count": 13,
   "metadata": {},
   "outputs": [],
   "source": [
    "_STATES =  {'Alabama' : 'AL',\n",
    "'Alaska' : 'AK',\n",
    "'Arizona' : 'AZ',\n",
    "'Arkansas' : 'AR',\n",
    "'California' : 'CA',\n",
    "'Colorado' : 'CO',\n",
    "'Connecticut' : 'CT',\n",
    "'Delaware' : 'DE',\n",
    "'Florida' : 'FL',\n",
    "'Georgia' : 'GA',\n",
    "'Hawaii' : 'HI',\n",
    "'Idaho' : 'ID',\n",
    "'Illinois' : 'IL',\n",
    "'Indiana' : 'IN',\n",
    "'Iowa' : 'IA',\n",
    "'Kansas' : 'KS',\n",
    "'Kentucky' : 'KY',\n",
    "'Louisiana' : 'LA',\n",
    "'Maine' : 'ME',\n",
    "'Maryland' : 'MD',\n",
    "'Massachusetts' : 'MA',\n",
    "'Michigan' : 'MI',\n",
    "'Minnesota' : 'MN',\n",
    "'Mississippi' : 'MS',\n",
    "'Missouri' : 'MO',\n",
    "'Montana' : 'MT',\n",
    "'Nebraska' : 'NE',\n",
    "'Nevada' : 'NV',\n",
    "'New Hampshire' : 'NH',\n",
    "'New Jersey' : 'NJ',\n",
    "'New Mexico' : 'NM',\n",
    "'New York' : 'NY',\n",
    "'North Carolina' : 'NC',\n",
    "'North Dakota' : 'ND',\n",
    "'Ohio' : 'OH',\n",
    "'Oklahoma' : 'OK',\n",
    "'Oregon' : 'OR',\n",
    "'Pennsylvania' : 'PA',\n",
    "'Rhode Island' : 'RI',\n",
    "'South Carolina' : 'SC',\n",
    "'South Dakota' : 'SD',\n",
    "'Tennessee' : 'TN',\n",
    "'Texas' : 'TX',\n",
    "'Utah' : 'UT',\n",
    "'Vermont' : 'VT',\n",
    "'Virginia' : 'VA',\n",
    "'Washington' : 'WA',\n",
    "'West Virginia' : 'WV',\n",
    "'Wisconsin' : 'WI',\n",
    "'Wyoming' : 'WY'\n",
    "}"
   ]
  },
  {
   "cell_type": "code",
   "execution_count": 14,
   "metadata": {},
   "outputs": [
    {
     "data": {
      "text/plain": [
       "dict_values(['AL', 'AK', 'AZ', 'AR', 'CA', 'CO', 'CT', 'DE', 'FL', 'GA', 'HI', 'ID', 'IL', 'IN', 'IA', 'KS', 'KY', 'LA', 'ME', 'MD', 'MA', 'MI', 'MN', 'MS', 'MO', 'MT', 'NE', 'NV', 'NH', 'NJ', 'NM', 'NY', 'NC', 'ND', 'OH', 'OK', 'OR', 'PA', 'RI', 'SC', 'SD', 'TN', 'TX', 'UT', 'VT', 'VA', 'WA', 'WV', 'WI', 'WY'])"
      ]
     },
     "execution_count": 14,
     "metadata": {},
     "output_type": "execute_result"
    }
   ],
   "source": [
    "_STATES.values()"
   ]
  },
  {
   "cell_type": "code",
   "execution_count": null,
   "metadata": {},
   "outputs": [],
   "source": []
  },
  {
   "cell_type": "code",
   "execution_count": 335,
   "metadata": {},
   "outputs": [
    {
     "data": {
      "text/html": [
       "<div>\n",
       "<style scoped>\n",
       "    .dataframe tbody tr th:only-of-type {\n",
       "        vertical-align: middle;\n",
       "    }\n",
       "\n",
       "    .dataframe tbody tr th {\n",
       "        vertical-align: top;\n",
       "    }\n",
       "\n",
       "    .dataframe thead th {\n",
       "        text-align: right;\n",
       "    }\n",
       "</style>\n",
       "<table border=\"1\" class=\"dataframe\">\n",
       "  <thead>\n",
       "    <tr style=\"text-align: right;\">\n",
       "      <th></th>\n",
       "      <th>Year</th>\n",
       "      <th>Carbon_Emissions</th>\n",
       "      <th>State</th>\n",
       "    </tr>\n",
       "  </thead>\n",
       "  <tbody>\n",
       "    <tr>\n",
       "      <th>0</th>\n",
       "      <td>2017</td>\n",
       "      <td>109.018634</td>\n",
       "      <td>Alabama</td>\n",
       "    </tr>\n",
       "    <tr>\n",
       "      <th>1</th>\n",
       "      <td>2016</td>\n",
       "      <td>114.872696</td>\n",
       "      <td>Alabama</td>\n",
       "    </tr>\n",
       "  </tbody>\n",
       "</table>\n",
       "</div>"
      ],
      "text/plain": [
       "   Year  Carbon_Emissions    State\n",
       "0  2017        109.018634  Alabama\n",
       "1  2016        114.872696  Alabama"
      ]
     },
     "execution_count": 335,
     "metadata": {},
     "output_type": "execute_result"
    }
   ],
   "source": [
    "url =  \"https://api.eia.gov/series\" \n",
    "\n",
    "PARMS = {'api_key':'106ca842268ae4f59b5872302c603bf2',\n",
    "         'series_id': 'EMISS.CO2-TOTV-TT-TO-DC.A' \n",
    "        }\n",
    "\n",
    "data = []\n",
    "\n",
    "\n",
    "#Initialize an empty dataframe to begin\n",
    "df = pd.DataFrame()\n",
    "\n",
    "# Call the api multiple times for each state\n",
    "for state in _STATES.values():\n",
    "    \n",
    "    # Reconstruct the series_id string to reflect the state\n",
    "    PARMS['series_id'] = PARMS['series_id'][:21] + state + '.A'  \n",
    "    response = requests.get(url, params=PARMS)\n",
    "    data.append(response)\n",
    "    \n",
    "\n",
    "# Iterate through all the responses saved in the list called 'data'\n",
    "for tmp in data:\n",
    "    \n",
    "    #Save the dataframe to a temporary spot called '_'\n",
    "    _ = pd.DataFrame(tmp.json()['series'][0]['data'], columns = ['Year', 'Carbon_Emissions'])\n",
    "                     \n",
    "    # Create a third column called 'State' and set the defualt value to the name of the state                 \n",
    "    _['State'] = tmp.json()['series'][0]['name'].split(', ')[2]\n",
    "                     \n",
    "    #update our main dataframe with additional rows\n",
    "    df = pd.concat([df, _]) \n",
    "df.head(2)"
   ]
  },
  {
   "cell_type": "code",
   "execution_count": 334,
   "metadata": {},
   "outputs": [
    {
     "data": {
      "text/html": [
       "<div>\n",
       "<style scoped>\n",
       "    .dataframe tbody tr th:only-of-type {\n",
       "        vertical-align: middle;\n",
       "    }\n",
       "\n",
       "    .dataframe tbody tr th {\n",
       "        vertical-align: top;\n",
       "    }\n",
       "\n",
       "    .dataframe thead th {\n",
       "        text-align: right;\n",
       "    }\n",
       "</style>\n",
       "<table border=\"1\" class=\"dataframe\">\n",
       "  <thead>\n",
       "    <tr style=\"text-align: right;\">\n",
       "      <th></th>\n",
       "      <th>State</th>\n",
       "      <th>Carbon_Emissions</th>\n",
       "    </tr>\n",
       "  </thead>\n",
       "  <tbody>\n",
       "    <tr>\n",
       "      <th>42</th>\n",
       "      <td>Texas</td>\n",
       "      <td>24307.492673</td>\n",
       "    </tr>\n",
       "    <tr>\n",
       "      <th>4</th>\n",
       "      <td>California</td>\n",
       "      <td>13376.910904</td>\n",
       "    </tr>\n",
       "  </tbody>\n",
       "</table>\n",
       "</div>"
      ],
      "text/plain": [
       "         State  Carbon_Emissions\n",
       "42       Texas      24307.492673\n",
       "4   California      13376.910904"
      ]
     },
     "execution_count": 334,
     "metadata": {},
     "output_type": "execute_result"
    }
   ],
   "source": [
    "grouped = df.groupby('State')\n",
    "grouped = pd.DataFrame(grouped.sum())\n",
    "grouped.reset_index(inplace=True)\n",
    "\n",
    "grouped.sort_values(by='Carbon_Emissions', ascending=False, inplace=True)\n",
    "grouped.head(2)"
   ]
  },
  {
   "cell_type": "code",
   "execution_count": 19,
   "metadata": {},
   "outputs": [],
   "source": []
  },
  {
   "cell_type": "code",
   "execution_count": 20,
   "metadata": {},
   "outputs": [],
   "source": [
    "grouped['Region'] = None\n",
    "\n",
    "              \n",
    "North_East = [ 'New Jersey', 'New York','Connecticut', 'Rhode Island', 'Massachusetts',\n",
    "              'New Hampshire', 'Maine', 'Vermont', 'Pennsylvania']\n",
    "\n",
    "\n",
    "Mid_West  = ['North Dakota', 'South Dakota', 'Nebraska', 'Kansas', 'Minnesota',\n",
    "            'Missouri', 'Iowa','Wisconsin', 'Illinois', 'Indiana', 'Michigan', 'Ohio' ]\n",
    "\n",
    "\n",
    "West = ['California', 'Alaska', 'Washington', 'Oregon', 'Nevada', \n",
    "                  'Idaho', 'Utah', 'Montana', 'Wyoming', 'Colorado', \n",
    "                  'Hawaii', 'New Mexico', 'Arizona']\n",
    "\n",
    "South = ['Texas', 'oklahoma', 'North Carolina','Arkansas', 'Alabama', 'Delaware',\n",
    "        'Virginia', 'Florida', 'West Virginia', 'South Carolina', 'Louisiana', 'Georgia', 'Louisiana', \n",
    "         'Mississippi', 'Tennessee','Kentucky', 'Maryland' ]\n",
    "\n",
    "\n",
    "# link to NGO https://www.nationalgeographic.org/maps/united-states-regions/"
   ]
  },
  {
   "cell_type": "code",
   "execution_count": 268,
   "metadata": {},
   "outputs": [
    {
     "data": {
      "text/html": [
       "<div>\n",
       "<style scoped>\n",
       "    .dataframe tbody tr th:only-of-type {\n",
       "        vertical-align: middle;\n",
       "    }\n",
       "\n",
       "    .dataframe tbody tr th {\n",
       "        vertical-align: top;\n",
       "    }\n",
       "\n",
       "    .dataframe thead th {\n",
       "        text-align: right;\n",
       "    }\n",
       "</style>\n",
       "<table border=\"1\" class=\"dataframe\">\n",
       "  <thead>\n",
       "    <tr style=\"text-align: right;\">\n",
       "      <th></th>\n",
       "      <th>State</th>\n",
       "      <th>Carbon_Emissions</th>\n",
       "      <th>Region</th>\n",
       "      <th>Population Size</th>\n",
       "    </tr>\n",
       "  </thead>\n",
       "  <tbody>\n",
       "    <tr>\n",
       "      <th>13</th>\n",
       "      <td>Alabama</td>\n",
       "      <td>4630.514409</td>\n",
       "      <td>South</td>\n",
       "      <td>956823</td>\n",
       "    </tr>\n",
       "    <tr>\n",
       "      <th>38</th>\n",
       "      <td>Alaska</td>\n",
       "      <td>1386.963112</td>\n",
       "      <td>West</td>\n",
       "      <td>1.95896e+07</td>\n",
       "    </tr>\n",
       "    <tr>\n",
       "      <th>24</th>\n",
       "      <td>Arizona</td>\n",
       "      <td>2946.139243</td>\n",
       "      <td>West</td>\n",
       "      <td>4.67056e+06</td>\n",
       "    </tr>\n",
       "    <tr>\n",
       "      <th>31</th>\n",
       "      <td>Arkansas</td>\n",
       "      <td>2162.827593</td>\n",
       "      <td>South</td>\n",
       "      <td>6.10667e+06</td>\n",
       "    </tr>\n",
       "    <tr>\n",
       "      <th>1</th>\n",
       "      <td>California</td>\n",
       "      <td>13376.910904</td>\n",
       "      <td>West</td>\n",
       "      <td>NaN</td>\n",
       "    </tr>\n",
       "  </tbody>\n",
       "</table>\n",
       "</div>"
      ],
      "text/plain": [
       "         State  Carbon_Emissions Region Population Size\n",
       "13     Alabama       4630.514409  South          956823\n",
       "38      Alaska       1386.963112   West     1.95896e+07\n",
       "24     Arizona       2946.139243   West     4.67056e+06\n",
       "31    Arkansas       2162.827593  South     6.10667e+06\n",
       "1   California      13376.910904   West             NaN"
      ]
     },
     "execution_count": 268,
     "metadata": {},
     "output_type": "execute_result"
    }
   ],
   "source": [
    "def region_maker(state):\n",
    "    if state in West:\n",
    "        return 'West'\n",
    "    if state in South:\n",
    "        return 'South'\n",
    "    if state in Mid_West:\n",
    "        return 'Mid_West'\n",
    "    if state in North_East:\n",
    "        return 'North_East'\n",
    "    \n",
    "    \n",
    "grouped['Region'] = grouped.State.apply(region_maker)\n",
    "grouped.Carbon_Emissions.describe()\n",
    "grouped.head()"
   ]
  },
  {
   "cell_type": "code",
   "execution_count": 131,
   "metadata": {},
   "outputs": [
    {
     "data": {
      "text/plain": [
       "Text(0.5, 1.0, \"US Region's Carbon Emissions\")"
      ]
     },
     "execution_count": 131,
     "metadata": {},
     "output_type": "execute_result"
    },
    {
     "data": {
      "image/png": "[encoded data removed]",
      "text/plain": [
       "<Figure size 864x576 with 1 Axes>"
      ]
     },
     "metadata": {},
     "output_type": "display_data"
    }
   ],
   "source": [
    "X=grouped.Region\n",
    "Y = grouped.Carbon_Emissions\n",
    "grouped.sort_values('Region')\n",
    "plt.figure(figsize=(12, 8))\n",
    "sns.boxplot(X, Y)\n",
    "plt.xlabel('US States in Regions', fontsize=16)\n",
    "plt.ylabel('CO2 Emissions', fontsize=16)\n",
    "plt.title(\"US Region's Carbon Emissions\", fontsize=20)\n",
    "\n"
   ]
  },
  {
   "cell_type": "code",
   "execution_count": 264,
   "metadata": {},
   "outputs": [
    {
     "data": {
      "text/plain": [
       "count       15.000000\n",
       "mean      5512.524600\n",
       "std       5597.021462\n",
       "min        587.754142\n",
       "25%       2642.098480\n",
       "50%       4159.759473\n",
       "75%       5249.662395\n",
       "max      24307.492673\n",
       "Name: Carbon_Emissions, dtype: float64"
      ]
     },
     "execution_count": 264,
     "metadata": {},
     "output_type": "execute_result"
    }
   ],
   "source": [
    "#SAMPLE STATISTICS\n",
    "\n",
    "East = grouped.loc[grouped['Region'] == 'South']\n",
    "East.Carbon_Emissions.describe()\n"
   ]
  },
  {
   "cell_type": "code",
   "execution_count": 265,
   "metadata": {},
   "outputs": [
    {
     "data": {
      "text/plain": [
       "1.4002793071987096"
      ]
     },
     "execution_count": 265,
     "metadata": {},
     "output_type": "execute_result"
    }
   ],
   "source": [
    "#Z SCORE\n",
    "\n",
    "x_bar =  5512.524600 # sample mean \n",
    "n =  15 # number of students\n",
    "sigma = 4105.22 # sd of population\n",
    "mu = 4028.28 # Population mean \n",
    "\n",
    "z = (x_bar - mu)/(sigma/sqrt(n))\n",
    "\n",
    "z \n"
   ]
  },
  {
   "cell_type": "code",
   "execution_count": 266,
   "metadata": {},
   "outputs": [
    {
     "data": {
      "text/plain": [
       "0.9192851525493166"
      ]
     },
     "execution_count": 266,
     "metadata": {},
     "output_type": "execute_result"
    }
   ],
   "source": [
    "#z VALUE\n",
    "\n",
    "stats.norm.cdf(z)"
   ]
  },
  {
   "cell_type": "code",
   "execution_count": 267,
   "metadata": {},
   "outputs": [
    {
     "data": {
      "text/plain": [
       "0.08071484745068336"
      ]
     },
     "execution_count": 267,
     "metadata": {},
     "output_type": "execute_result"
    }
   ],
   "source": [
    "# P value\n",
    "\n",
    "pval = 1 - stats.norm.cdf(z)\n",
    "pval"
   ]
  },
  {
   "cell_type": "code",
   "execution_count": null,
   "metadata": {},
   "outputs": [],
   "source": []
  },
  {
   "cell_type": "markdown",
   "metadata": {},
   "source": [
    "# One sample Z test "
   ]
  },
  {
   "cell_type": "markdown",
   "metadata": {},
   "source": [
    "Null hypothesis = CO2 emissions from the West coast region is the same as the state \n",
    "\n",
    "Hypothesis = There is a differnce between the state and the West Coast"
   ]
  },
  {
   "cell_type": "code",
   "execution_count": 77,
   "metadata": {},
   "outputs": [
    {
     "data": {
      "text/html": [
       "<div>\n",
       "<style scoped>\n",
       "    .dataframe tbody tr th:only-of-type {\n",
       "        vertical-align: middle;\n",
       "    }\n",
       "\n",
       "    .dataframe tbody tr th {\n",
       "        vertical-align: top;\n",
       "    }\n",
       "\n",
       "    .dataframe thead th {\n",
       "        text-align: right;\n",
       "    }\n",
       "</style>\n",
       "<table border=\"1\" class=\"dataframe\">\n",
       "  <thead>\n",
       "    <tr style=\"text-align: right;\">\n",
       "      <th></th>\n",
       "      <th>Region</th>\n",
       "      <th>Carbon_Emissions</th>\n",
       "    </tr>\n",
       "  </thead>\n",
       "  <tbody>\n",
       "    <tr>\n",
       "      <th>0</th>\n",
       "      <td>Mid_West</td>\n",
       "      <td>52578.690083</td>\n",
       "    </tr>\n",
       "    <tr>\n",
       "      <th>1</th>\n",
       "      <td>North_East</td>\n",
       "      <td>27870.109303</td>\n",
       "    </tr>\n",
       "    <tr>\n",
       "      <th>2</th>\n",
       "      <td>South</td>\n",
       "      <td>82687.868993</td>\n",
       "    </tr>\n",
       "    <tr>\n",
       "      <th>3</th>\n",
       "      <td>West</td>\n",
       "      <td>34654.963282</td>\n",
       "    </tr>\n",
       "  </tbody>\n",
       "</table>\n",
       "</div>"
      ],
      "text/plain": [
       "       Region  Carbon_Emissions\n",
       "0    Mid_West      52578.690083\n",
       "1  North_East      27870.109303\n",
       "2       South      82687.868993\n",
       "3        West      34654.963282"
      ]
     },
     "execution_count": 77,
     "metadata": {},
     "output_type": "execute_result"
    }
   ],
   "source": [
    "by_region = grouped.groupby(grouped.Region)\n",
    "by_region = (by_region.sum())\n",
    "by_region.reset_index(inplace=True)\n",
    "\n",
    "by_region"
   ]
  },
  {
   "cell_type": "code",
   "execution_count": 28,
   "metadata": {},
   "outputs": [],
   "source": [
    "X = by_region.Region\n",
    "Y = by_region.Carbon_Emissions\n",
    "\n"
   ]
  },
  {
   "cell_type": "code",
   "execution_count": 49,
   "metadata": {},
   "outputs": [
    {
     "data": {
      "image/png": "[encoded data removed]",
      "text/plain": [
       "<Figure size 864x576 with 1 Axes>"
      ]
     },
     "metadata": {},
     "output_type": "display_data"
    }
   ],
   "source": [
    "plt.figure(figsize=(12, 8))\n",
    "sns.barplot(X, Y)\n",
    "plt.ylabel('CO2_Emissions(million metric tons)')\n",
    "plt.xlabel('US Regions')\n",
    "plt.title('CO2 Emissions by US Regions')\n",
    "sns.set(context='notebook',\n",
    "        style='darkgrid',\n",
    "        palette='deep',\n",
    "        font='sans-serif',\n",
    "        font_scale=0)\n",
    "plt.show()\n"
   ]
  },
  {
   "cell_type": "markdown",
   "metadata": {},
   "source": [
    "# Population Data obtained from the US Census Bureau\n",
    "\n",
    "link = https://www2.census.gov/programs-surveys/popest/datasets/2010-2019/state/detail/"
   ]
  },
  {
   "cell_type": "code",
   "execution_count": 78,
   "metadata": {},
   "outputs": [],
   "source": [
    "pop = pd.read_csv('/Users/lidetalemu/Documents/SCPRC-EST2019-18+POP-RES.csv')"
   ]
  },
  {
   "cell_type": "code",
   "execution_count": 79,
   "metadata": {},
   "outputs": [
    {
     "data": {
      "text/html": [
       "<div>\n",
       "<style scoped>\n",
       "    .dataframe tbody tr th:only-of-type {\n",
       "        vertical-align: middle;\n",
       "    }\n",
       "\n",
       "    .dataframe tbody tr th {\n",
       "        vertical-align: top;\n",
       "    }\n",
       "\n",
       "    .dataframe thead th {\n",
       "        text-align: right;\n",
       "    }\n",
       "</style>\n",
       "<table border=\"1\" class=\"dataframe\">\n",
       "  <thead>\n",
       "    <tr style=\"text-align: right;\">\n",
       "      <th></th>\n",
       "      <th>SUMLEV</th>\n",
       "      <th>REGION</th>\n",
       "      <th>DIVISION</th>\n",
       "      <th>STATE</th>\n",
       "      <th>NAME</th>\n",
       "      <th>POPESTIMATE2019</th>\n",
       "      <th>POPEST18PLUS2019</th>\n",
       "      <th>PCNT_POPEST18PLUS</th>\n",
       "    </tr>\n",
       "  </thead>\n",
       "  <tbody>\n",
       "    <tr>\n",
       "      <th>5</th>\n",
       "      <td>40</td>\n",
       "      <td>4</td>\n",
       "      <td>9</td>\n",
       "      <td>6</td>\n",
       "      <td>California</td>\n",
       "      <td>39512223</td>\n",
       "      <td>30617582</td>\n",
       "      <td>77.5</td>\n",
       "    </tr>\n",
       "    <tr>\n",
       "      <th>44</th>\n",
       "      <td>40</td>\n",
       "      <td>3</td>\n",
       "      <td>7</td>\n",
       "      <td>48</td>\n",
       "      <td>Texas</td>\n",
       "      <td>28995881</td>\n",
       "      <td>21596071</td>\n",
       "      <td>74.5</td>\n",
       "    </tr>\n",
       "    <tr>\n",
       "      <th>10</th>\n",
       "      <td>40</td>\n",
       "      <td>3</td>\n",
       "      <td>5</td>\n",
       "      <td>12</td>\n",
       "      <td>Florida</td>\n",
       "      <td>21477737</td>\n",
       "      <td>17247808</td>\n",
       "      <td>80.3</td>\n",
       "    </tr>\n",
       "    <tr>\n",
       "      <th>33</th>\n",
       "      <td>40</td>\n",
       "      <td>1</td>\n",
       "      <td>2</td>\n",
       "      <td>36</td>\n",
       "      <td>New York</td>\n",
       "      <td>19453561</td>\n",
       "      <td>15425262</td>\n",
       "      <td>79.3</td>\n",
       "    </tr>\n",
       "    <tr>\n",
       "      <th>39</th>\n",
       "      <td>40</td>\n",
       "      <td>1</td>\n",
       "      <td>2</td>\n",
       "      <td>42</td>\n",
       "      <td>Pennsylvania</td>\n",
       "      <td>12801989</td>\n",
       "      <td>10167376</td>\n",
       "      <td>79.4</td>\n",
       "    </tr>\n",
       "  </tbody>\n",
       "</table>\n",
       "</div>"
      ],
      "text/plain": [
       "    SUMLEV REGION DIVISION  STATE          NAME  POPESTIMATE2019  \\\n",
       "5       40      4        9      6    California         39512223   \n",
       "44      40      3        7     48         Texas         28995881   \n",
       "10      40      3        5     12       Florida         21477737   \n",
       "33      40      1        2     36      New York         19453561   \n",
       "39      40      1        2     42  Pennsylvania         12801989   \n",
       "\n",
       "    POPEST18PLUS2019  PCNT_POPEST18PLUS  \n",
       "5           30617582               77.5  \n",
       "44          21596071               74.5  \n",
       "10          17247808               80.3  \n",
       "33          15425262               79.3  \n",
       "39          10167376               79.4  "
      ]
     },
     "execution_count": 79,
     "metadata": {},
     "output_type": "execute_result"
    }
   ],
   "source": [
    "popn = pop.drop(0)\n",
    "\n",
    "popn.head(2)\n",
    "\n",
    "popn.sort_values(by='POPESTIMATE2019', ascending=False, inplace=True)\n",
    "popn.head()"
   ]
  },
  {
   "cell_type": "code",
   "execution_count": null,
   "metadata": {},
   "outputs": [],
   "source": []
  },
  {
   "cell_type": "code",
   "execution_count": 245,
   "metadata": {},
   "outputs": [
    {
     "data": {
      "text/plain": [
       "1.1858541225631423"
      ]
     },
     "execution_count": 245,
     "metadata": {},
     "output_type": "execute_result"
    }
   ],
   "source": [
    "x_bar = 103 # sample mean \n",
    "n = 40 # number of students\n",
    "sigma = 16 # sd of population\n",
    "mu = 100 # Population mean \n",
    "\n",
    "z = (x_bar - mu)/(sigma/sqrt(n))\n",
    "z"
   ]
  },
  {
   "cell_type": "code",
   "execution_count": 246,
   "metadata": {},
   "outputs": [
    {
     "data": {
      "text/plain": [
       "0.8821600432854813"
      ]
     },
     "execution_count": 246,
     "metadata": {},
     "output_type": "execute_result"
    }
   ],
   "source": [
    "stats.norm.cdf(z)"
   ]
  },
  {
   "cell_type": "code",
   "execution_count": 247,
   "metadata": {},
   "outputs": [
    {
     "data": {
      "text/plain": [
       "0.11783995671451875"
      ]
     },
     "execution_count": 247,
     "metadata": {},
     "output_type": "execute_result"
    }
   ],
   "source": [
    "pval = 1 - stats.norm.cdf(z)\n",
    "pval"
   ]
  },
  {
   "cell_type": "code",
   "execution_count": 199,
   "metadata": {},
   "outputs": [],
   "source": [
    "population_df = pd.read_excel('/Users/lidetalemu/Downloads/nst-est2019-01.xlsx')\n"
   ]
  },
  {
   "cell_type": "code",
   "execution_count": 200,
   "metadata": {},
   "outputs": [],
   "source": [
    "population_df.columns = population_df.iloc[2]\n",
    "\n",
    "population_df.rename(columns = {np.nan: 'States',         \n",
    "                                'Census': 'Census', \n",
    "                                'Estimates Base': 'Estimates Base',             \n",
    "                                2010 : 2010,\n",
    "                                2011.0 : 2011,\n",
    "                                2012.0 : 2012,\n",
    "                                2013.0 : 2013,\n",
    "                                2014.0 : 2014,\n",
    "                                2015.0 : 2015,           \n",
    "                                2016.0 : 2016,           \n",
    "                                2017.0 : 2017,           \n",
    "                                2018.0 : 2018,\n",
    "                                2019.0 : 2019 \n",
    "                               }, \n",
    "                     inplace=True)\n",
    "\n",
    "population_df.drop(range(3), inplace=True)\n",
    "\n",
    "population_df.drop(list(range(59, 66)), inplace=True)\n",
    "\n",
    "population_df['States'] = population_df['States'].map(lambda x: x.replace('.', ''))\n",
    "\n",
    "population_df = population_df.T\n",
    "\n",
    "population_df.columns = population_df.iloc[0]\n",
    "\n",
    "population_df.reset_index(inplace = True)\n",
    "\n",
    "population_df.rename(columns = {2: 'Year'}, inplace =True)\n",
    "\n",
    "population_df.drop(range(3), inplace = True)\n",
    "\n",
    "population_df.reset_index(inplace = True)\n",
    "\n",
    "population_df.drop(columns=['index'], inplace=True)\n",
    "\n",
    "population_df.index.name = None\n",
    "\n",
    "population_df.columns = population_df.columns.get_level_values(0)\n",
    "\n"
   ]
  },
  {
   "cell_type": "code",
   "execution_count": 277,
   "metadata": {},
   "outputs": [
    {
     "data": {
      "text/html": [
       "<div>\n",
       "<style scoped>\n",
       "    .dataframe tbody tr th:only-of-type {\n",
       "        vertical-align: middle;\n",
       "    }\n",
       "\n",
       "    .dataframe tbody tr th {\n",
       "        vertical-align: top;\n",
       "    }\n",
       "\n",
       "    .dataframe thead th {\n",
       "        text-align: right;\n",
       "    }\n",
       "</style>\n",
       "<table border=\"1\" class=\"dataframe\">\n",
       "  <thead>\n",
       "    <tr style=\"text-align: right;\">\n",
       "      <th>States</th>\n",
       "      <th>Year</th>\n",
       "      <th>United States</th>\n",
       "      <th>Northeast</th>\n",
       "      <th>Midwest</th>\n",
       "      <th>South</th>\n",
       "      <th>West</th>\n",
       "      <th>Alabama</th>\n",
       "      <th>Alaska</th>\n",
       "      <th>Arizona</th>\n",
       "      <th>Arkansas</th>\n",
       "      <th>...</th>\n",
       "      <th>South Dakota</th>\n",
       "      <th>Tennessee</th>\n",
       "      <th>Texas</th>\n",
       "      <th>Utah</th>\n",
       "      <th>Vermont</th>\n",
       "      <th>Virginia</th>\n",
       "      <th>Washington</th>\n",
       "      <th>West Virginia</th>\n",
       "      <th>Wisconsin</th>\n",
       "      <th>Wyoming</th>\n",
       "    </tr>\n",
       "  </thead>\n",
       "  <tbody>\n",
       "    <tr>\n",
       "      <th>0</th>\n",
       "      <td>2010</td>\n",
       "      <td>309321666</td>\n",
       "      <td>55380134</td>\n",
       "      <td>66974416</td>\n",
       "      <td>114866680</td>\n",
       "      <td>72100436</td>\n",
       "      <td>4785437</td>\n",
       "      <td>713910</td>\n",
       "      <td>6407172</td>\n",
       "      <td>2921964</td>\n",
       "      <td>...</td>\n",
       "      <td>816166</td>\n",
       "      <td>6355311</td>\n",
       "      <td>25241971</td>\n",
       "      <td>2775332</td>\n",
       "      <td>625879</td>\n",
       "      <td>8023699</td>\n",
       "      <td>6742830</td>\n",
       "      <td>1854239</td>\n",
       "      <td>5690475</td>\n",
       "      <td>564487</td>\n",
       "    </tr>\n",
       "    <tr>\n",
       "      <th>1</th>\n",
       "      <td>2011</td>\n",
       "      <td>3.11557e+08</td>\n",
       "      <td>5.56042e+07</td>\n",
       "      <td>6.71578e+07</td>\n",
       "      <td>1.16007e+08</td>\n",
       "      <td>7.27883e+07</td>\n",
       "      <td>4.79907e+06</td>\n",
       "      <td>722128</td>\n",
       "      <td>6.47264e+06</td>\n",
       "      <td>2.94067e+06</td>\n",
       "      <td>...</td>\n",
       "      <td>823579</td>\n",
       "      <td>6.39929e+06</td>\n",
       "      <td>2.56456e+07</td>\n",
       "      <td>2.81438e+06</td>\n",
       "      <td>627049</td>\n",
       "      <td>8.10116e+06</td>\n",
       "      <td>6.82663e+06</td>\n",
       "      <td>1.8563e+06</td>\n",
       "      <td>5.70529e+06</td>\n",
       "      <td>567299</td>\n",
       "    </tr>\n",
       "    <tr>\n",
       "      <th>2</th>\n",
       "      <td>2012</td>\n",
       "      <td>3.13831e+08</td>\n",
       "      <td>5.57752e+07</td>\n",
       "      <td>6.73367e+07</td>\n",
       "      <td>1.17241e+08</td>\n",
       "      <td>7.34778e+07</td>\n",
       "      <td>4.81559e+06</td>\n",
       "      <td>730443</td>\n",
       "      <td>6.55498e+06</td>\n",
       "      <td>2.95216e+06</td>\n",
       "      <td>...</td>\n",
       "      <td>833566</td>\n",
       "      <td>6.4539e+06</td>\n",
       "      <td>2.60845e+07</td>\n",
       "      <td>2.85338e+06</td>\n",
       "      <td>626090</td>\n",
       "      <td>8.18508e+06</td>\n",
       "      <td>6.89706e+06</td>\n",
       "      <td>1.85687e+06</td>\n",
       "      <td>5.71996e+06</td>\n",
       "      <td>576305</td>\n",
       "    </tr>\n",
       "    <tr>\n",
       "      <th>3</th>\n",
       "      <td>2013</td>\n",
       "      <td>3.15994e+08</td>\n",
       "      <td>5.59018e+07</td>\n",
       "      <td>6.75604e+07</td>\n",
       "      <td>1.18364e+08</td>\n",
       "      <td>7.41671e+07</td>\n",
       "      <td>4.83008e+06</td>\n",
       "      <td>737068</td>\n",
       "      <td>6.63276e+06</td>\n",
       "      <td>2.9594e+06</td>\n",
       "      <td>...</td>\n",
       "      <td>842316</td>\n",
       "      <td>6.49434e+06</td>\n",
       "      <td>2.64803e+07</td>\n",
       "      <td>2.89764e+06</td>\n",
       "      <td>626210</td>\n",
       "      <td>8.25243e+06</td>\n",
       "      <td>6.96398e+06</td>\n",
       "      <td>1.85391e+06</td>\n",
       "      <td>5.73675e+06</td>\n",
       "      <td>582122</td>\n",
       "    </tr>\n",
       "    <tr>\n",
       "      <th>4</th>\n",
       "      <td>2014</td>\n",
       "      <td>3.18301e+08</td>\n",
       "      <td>5.6006e+07</td>\n",
       "      <td>6.77452e+07</td>\n",
       "      <td>1.19624e+08</td>\n",
       "      <td>7.49258e+07</td>\n",
       "      <td>4.8418e+06</td>\n",
       "      <td>736283</td>\n",
       "      <td>6.73041e+06</td>\n",
       "      <td>2.96739e+06</td>\n",
       "      <td>...</td>\n",
       "      <td>849129</td>\n",
       "      <td>6.54122e+06</td>\n",
       "      <td>2.69643e+07</td>\n",
       "      <td>2.93688e+06</td>\n",
       "      <td>625214</td>\n",
       "      <td>8.31099e+06</td>\n",
       "      <td>7.05466e+06</td>\n",
       "      <td>1.84949e+06</td>\n",
       "      <td>5.75152e+06</td>\n",
       "      <td>582531</td>\n",
       "    </tr>\n",
       "  </tbody>\n",
       "</table>\n",
       "<p>5 rows × 57 columns</p>\n",
       "</div>"
      ],
      "text/plain": [
       "States  Year United States    Northeast      Midwest        South  \\\n",
       "0       2010     309321666     55380134     66974416    114866680   \n",
       "1       2011   3.11557e+08  5.56042e+07  6.71578e+07  1.16007e+08   \n",
       "2       2012   3.13831e+08  5.57752e+07  6.73367e+07  1.17241e+08   \n",
       "3       2013   3.15994e+08  5.59018e+07  6.75604e+07  1.18364e+08   \n",
       "4       2014   3.18301e+08   5.6006e+07  6.77452e+07  1.19624e+08   \n",
       "\n",
       "States         West      Alabama  Alaska      Arizona     Arkansas  ...  \\\n",
       "0          72100436      4785437  713910      6407172      2921964  ...   \n",
       "1       7.27883e+07  4.79907e+06  722128  6.47264e+06  2.94067e+06  ...   \n",
       "2       7.34778e+07  4.81559e+06  730443  6.55498e+06  2.95216e+06  ...   \n",
       "3       7.41671e+07  4.83008e+06  737068  6.63276e+06   2.9594e+06  ...   \n",
       "4       7.49258e+07   4.8418e+06  736283  6.73041e+06  2.96739e+06  ...   \n",
       "\n",
       "States South Dakota    Tennessee        Texas         Utah Vermont  \\\n",
       "0            816166      6355311     25241971      2775332  625879   \n",
       "1            823579  6.39929e+06  2.56456e+07  2.81438e+06  627049   \n",
       "2            833566   6.4539e+06  2.60845e+07  2.85338e+06  626090   \n",
       "3            842316  6.49434e+06  2.64803e+07  2.89764e+06  626210   \n",
       "4            849129  6.54122e+06  2.69643e+07  2.93688e+06  625214   \n",
       "\n",
       "States     Virginia   Washington West Virginia    Wisconsin Wyoming  \n",
       "0           8023699      6742830       1854239      5690475  564487  \n",
       "1       8.10116e+06  6.82663e+06    1.8563e+06  5.70529e+06  567299  \n",
       "2       8.18508e+06  6.89706e+06   1.85687e+06  5.71996e+06  576305  \n",
       "3       8.25243e+06  6.96398e+06   1.85391e+06  5.73675e+06  582122  \n",
       "4       8.31099e+06  7.05466e+06   1.84949e+06  5.75152e+06  582531  \n",
       "\n",
       "[5 rows x 57 columns]"
      ]
     },
     "execution_count": 277,
     "metadata": {},
     "output_type": "execute_result"
    }
   ],
   "source": [
    "population_df.head()"
   ]
  },
  {
   "cell_type": "code",
   "execution_count": null,
   "metadata": {},
   "outputs": [],
   "source": [
    "\n"
   ]
  },
  {
   "cell_type": "code",
   "execution_count": 238,
   "metadata": {},
   "outputs": [
    {
     "name": "stderr",
     "output_type": "stream",
     "text": [
      "/opt/anaconda3/lib/python3.7/site-packages/pandas/core/frame.py:3994: SettingWithCopyWarning: \n",
      "A value is trying to be set on a copy of a slice from a DataFrame\n",
      "\n",
      "See the caveats in the documentation: https://pandas.pydata.org/pandas-docs/stable/user_guide/indexing.html#returning-a-view-versus-a-copy\n",
      "  errors=errors,\n"
     ]
    }
   ],
   "source": [
    "population_2017 = population_df.loc[population_df['Year']== 2017]\n",
    "population_2017= population_2017.T\n",
    "population_2017.reset_index(inplace=True)\n",
    "population_2017.columns = ['States', 'Population_Data']\n",
    "population_2017.drop(0, inplace=True)\n",
    "\n",
    "Popn_Regions = population_2017.iloc[:5]\n",
    "Popn_Regions.drop(1, inplace=True)"
   ]
  },
  {
   "cell_type": "code",
   "execution_count": null,
   "metadata": {},
   "outputs": [],
   "source": []
  },
  {
   "cell_type": "code",
   "execution_count": 58,
   "metadata": {},
   "outputs": [
    {
     "name": "stderr",
     "output_type": "stream",
     "text": [
      "/opt/anaconda3/lib/python3.7/site-packages/pandas/core/frame.py:3994: SettingWithCopyWarning: \n",
      "A value is trying to be set on a copy of a slice from a DataFrame\n",
      "\n",
      "See the caveats in the documentation: https://pandas.pydata.org/pandas-docs/stable/user_guide/indexing.html#returning-a-view-versus-a-copy\n",
      "  errors=errors,\n"
     ]
    }
   ],
   "source": [
    "\n",
    "population_2017 = population_df.loc[population_df['Year']== 2017]\n",
    "population_2017= population_2017.T\n",
    "population_2017.reset_index(inplace=True)\n",
    "population_2017.columns = ['States', 'Population_Data']\n",
    "population_2017.drop(0, inplace=True)\n",
    "\n",
    "Popn_Regions = population_2017.iloc[:5]\n",
    "Popn_Regions.drop(1, inplace=True)\n",
    "\n"
   ]
  },
  {
   "cell_type": "code",
   "execution_count": 59,
   "metadata": {},
   "outputs": [
    {
     "data": {
      "text/html": [
       "<div>\n",
       "<style scoped>\n",
       "    .dataframe tbody tr th:only-of-type {\n",
       "        vertical-align: middle;\n",
       "    }\n",
       "\n",
       "    .dataframe tbody tr th {\n",
       "        vertical-align: top;\n",
       "    }\n",
       "\n",
       "    .dataframe thead th {\n",
       "        text-align: right;\n",
       "    }\n",
       "</style>\n",
       "<table border=\"1\" class=\"dataframe\">\n",
       "  <thead>\n",
       "    <tr style=\"text-align: right;\">\n",
       "      <th></th>\n",
       "      <th>States</th>\n",
       "      <th>Population_Data</th>\n",
       "    </tr>\n",
       "  </thead>\n",
       "  <tbody>\n",
       "    <tr>\n",
       "      <th>2</th>\n",
       "      <td>Northeast</td>\n",
       "      <td>5.60592e+07</td>\n",
       "    </tr>\n",
       "    <tr>\n",
       "      <th>3</th>\n",
       "      <td>Midwest</td>\n",
       "      <td>6.81268e+07</td>\n",
       "    </tr>\n",
       "    <tr>\n",
       "      <th>4</th>\n",
       "      <td>South</td>\n",
       "      <td>1.23542e+08</td>\n",
       "    </tr>\n",
       "    <tr>\n",
       "      <th>5</th>\n",
       "      <td>West</td>\n",
       "      <td>7.72573e+07</td>\n",
       "    </tr>\n",
       "  </tbody>\n",
       "</table>\n",
       "</div>"
      ],
      "text/plain": [
       "      States Population_Data\n",
       "2  Northeast     5.60592e+07\n",
       "3    Midwest     6.81268e+07\n",
       "4      South     1.23542e+08\n",
       "5       West     7.72573e+07"
      ]
     },
     "execution_count": 59,
     "metadata": {},
     "output_type": "execute_result"
    }
   ],
   "source": [
    "Popn_Regions"
   ]
  },
  {
   "cell_type": "code",
   "execution_count": 64,
   "metadata": {},
   "outputs": [],
   "source": [
    "x= Popn_Regions.States\n",
    "y= Popn_Regions.Population_Data"
   ]
  },
  {
   "cell_type": "code",
   "execution_count": null,
   "metadata": {},
   "outputs": [],
   "source": []
  },
  {
   "cell_type": "code",
   "execution_count": null,
   "metadata": {},
   "outputs": [],
   "source": []
  },
  {
   "cell_type": "code",
   "execution_count": null,
   "metadata": {},
   "outputs": [],
   "source": []
  },
  {
   "cell_type": "code",
   "execution_count": 69,
   "metadata": {
    "scrolled": true
   },
   "outputs": [
    {
     "name": "stderr",
     "output_type": "stream",
     "text": [
      "/opt/anaconda3/lib/python3.7/site-packages/pandas/core/generic.py:5302: SettingWithCopyWarning: \n",
      "A value is trying to be set on a copy of a slice from a DataFrame.\n",
      "Try using .loc[row_indexer,col_indexer] = value instead\n",
      "\n",
      "See the caveats in the documentation: https://pandas.pydata.org/pandas-docs/stable/user_guide/indexing.html#returning-a-view-versus-a-copy\n",
      "  self[name] = value\n"
     ]
    }
   ],
   "source": [
    "#First, you divide 38 by 230, then multiply that total by 100.\n",
    "\n",
    "total_pop = sum(Popn_Regions.Population_Data)\n",
    "Popn_Regions.Population_Data = Popn_Regions['Population_Data'].apply(lambda x: x/total_pop)"
   ]
  },
  {
   "cell_type": "code",
   "execution_count": null,
   "metadata": {},
   "outputs": [],
   "source": []
  },
  {
   "cell_type": "code",
   "execution_count": 70,
   "metadata": {},
   "outputs": [
    {
     "data": {
      "text/html": [
       "<div>\n",
       "<style scoped>\n",
       "    .dataframe tbody tr th:only-of-type {\n",
       "        vertical-align: middle;\n",
       "    }\n",
       "\n",
       "    .dataframe tbody tr th {\n",
       "        vertical-align: top;\n",
       "    }\n",
       "\n",
       "    .dataframe thead th {\n",
       "        text-align: right;\n",
       "    }\n",
       "</style>\n",
       "<table border=\"1\" class=\"dataframe\">\n",
       "  <thead>\n",
       "    <tr style=\"text-align: right;\">\n",
       "      <th></th>\n",
       "      <th>States</th>\n",
       "      <th>Population_Data</th>\n",
       "    </tr>\n",
       "  </thead>\n",
       "  <tbody>\n",
       "    <tr>\n",
       "      <th>2</th>\n",
       "      <td>Northeast</td>\n",
       "      <td>0.17</td>\n",
       "    </tr>\n",
       "    <tr>\n",
       "      <th>3</th>\n",
       "      <td>Midwest</td>\n",
       "      <td>0.21</td>\n",
       "    </tr>\n",
       "    <tr>\n",
       "      <th>4</th>\n",
       "      <td>South</td>\n",
       "      <td>0.38</td>\n",
       "    </tr>\n",
       "    <tr>\n",
       "      <th>5</th>\n",
       "      <td>West</td>\n",
       "      <td>0.24</td>\n",
       "    </tr>\n",
       "  </tbody>\n",
       "</table>\n",
       "</div>"
      ],
      "text/plain": [
       "      States  Population_Data\n",
       "2  Northeast             0.17\n",
       "3    Midwest             0.21\n",
       "4      South             0.38\n",
       "5       West             0.24"
      ]
     },
     "execution_count": 70,
     "metadata": {},
     "output_type": "execute_result"
    }
   ],
   "source": [
    "Popn_Regions.Population_Data = Popn_Regions.Population_Data.round(2)\n",
    "Popn_Regions"
   ]
  },
  {
   "cell_type": "code",
   "execution_count": 72,
   "metadata": {},
   "outputs": [
    {
     "data": {
      "text/plain": [
       "197791.63166099996"
      ]
     },
     "execution_count": 72,
     "metadata": {},
     "output_type": "execute_result"
    }
   ],
   "source": [
    "total_emissions"
   ]
  },
  {
   "cell_type": "code",
   "execution_count": 71,
   "metadata": {},
   "outputs": [
    {
     "data": {
      "text/html": [
       "<div>\n",
       "<style scoped>\n",
       "    .dataframe tbody tr th:only-of-type {\n",
       "        vertical-align: middle;\n",
       "    }\n",
       "\n",
       "    .dataframe tbody tr th {\n",
       "        vertical-align: top;\n",
       "    }\n",
       "\n",
       "    .dataframe thead th {\n",
       "        text-align: right;\n",
       "    }\n",
       "</style>\n",
       "<table border=\"1\" class=\"dataframe\">\n",
       "  <thead>\n",
       "    <tr style=\"text-align: right;\">\n",
       "      <th></th>\n",
       "      <th>Region</th>\n",
       "      <th>Carbon_Emissions</th>\n",
       "    </tr>\n",
       "  </thead>\n",
       "  <tbody>\n",
       "    <tr>\n",
       "      <th>0</th>\n",
       "      <td>Mid_West</td>\n",
       "      <td>0.27</td>\n",
       "    </tr>\n",
       "    <tr>\n",
       "      <th>1</th>\n",
       "      <td>North_East</td>\n",
       "      <td>0.14</td>\n",
       "    </tr>\n",
       "    <tr>\n",
       "      <th>2</th>\n",
       "      <td>South</td>\n",
       "      <td>0.42</td>\n",
       "    </tr>\n",
       "    <tr>\n",
       "      <th>3</th>\n",
       "      <td>West</td>\n",
       "      <td>0.18</td>\n",
       "    </tr>\n",
       "  </tbody>\n",
       "</table>\n",
       "</div>"
      ],
      "text/plain": [
       "       Region  Carbon_Emissions\n",
       "0    Mid_West              0.27\n",
       "1  North_East              0.14\n",
       "2       South              0.42\n",
       "3        West              0.18"
      ]
     },
     "execution_count": 71,
     "metadata": {},
     "output_type": "execute_result"
    }
   ],
   "source": [
    "total_emissions = sum(by_region.Carbon_Emissions)\n",
    "by_region.Carbon_Emissions = by_region.Carbon_Emissions.apply(lambda x:x/total_emissions)\n",
    "by_region.Carbon_Emissions = by_region.Carbon_Emissions.round(2)\n",
    "by_region"
   ]
  },
  {
   "cell_type": "code",
   "execution_count": null,
   "metadata": {},
   "outputs": [],
   "source": [
    "o = [0.27, 0.14, 0.42, 0.18]\n",
    "e = [0.17, 0.21, 0.38, 0.24]\n",
    "\n"
   ]
  },
  {
   "cell_type": "code",
   "execution_count": null,
   "metadata": {},
   "outputs": [],
   "source": [
    "chi = (o[0]-e[0])**2/e[0] + (o[1]-e[1])**2/e[1] + (o[2]-e[2])**2/e[2]\n",
    "chi"
   ]
  },
  {
   "cell_type": "code",
   "execution_count": null,
   "metadata": {},
   "outputs": [],
   "source": []
  },
  {
   "cell_type": "code",
   "execution_count": null,
   "metadata": {},
   "outputs": [],
   "source": [
    "#pval = 1 - stats.norm.ppf(chi)\n",
    "#pval"
   ]
  },
  {
   "cell_type": "code",
   "execution_count": null,
   "metadata": {},
   "outputs": [],
   "source": []
  }
 ],
 "metadata": {
  "kernelspec": {
   "display_name": "Python 3",
   "language": "python",
   "name": "python3"
  },
  "language_info": {
   "codemirror_mode": {
    "name": "ipython",
    "version": 3
   },
   "file_extension": ".py",
   "mimetype": "text/x-python",
   "name": "python",
   "nbconvert_exporter": "python",
   "pygments_lexer": "ipython3",
   "version": "3.7.4"
  }
 },
 "nbformat": 4,
 "nbformat_minor": 4
}
