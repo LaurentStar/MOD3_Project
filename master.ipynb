{
 "cells": [
  {
   "cell_type": "markdown",
   "metadata": {},
   "source": [
    "# Imports"
   ]
  },
  {
   "cell_type": "code",
   "execution_count": 104,
   "metadata": {},
   "outputs": [],
   "source": [
    "import pandas as pd\n",
    "import json\n",
    "import requests\n",
    "import pickle "
   ]
  },
  {
   "cell_type": "markdown",
   "metadata": {},
   "source": [
    "# Global Stuff"
   ]
  },
  {
   "cell_type": "code",
   "execution_count": 51,
   "metadata": {},
   "outputs": [],
   "source": [
    "_STATES =  {'Alabama' : 'AL',\n",
    "'Alaska' : 'AK',\n",
    "'Arizona' : 'AZ',\n",
    "'Arkansas' : 'AR',\n",
    "'California' : 'CA',\n",
    "'Colorado' : 'CO',\n",
    "'Connecticut' : 'CT',\n",
    "'Delaware' : 'DE',\n",
    "'Florida' : 'FL',\n",
    "'Georgia' : 'GA',\n",
    "'Hawaii' : 'HI',\n",
    "'Idaho' : 'ID',\n",
    "'Illinois' : 'IL',\n",
    "'Indiana' : 'IN',\n",
    "'Iowa' : 'IA',\n",
    "'Kansas' : 'KS',\n",
    "'Kentucky' : 'KY',\n",
    "'Louisiana' : 'LA',\n",
    "'Maine' : 'ME',\n",
    "'Maryland' : 'MD',\n",
    "'Massachusetts' : 'MA',\n",
    "'Michigan' : 'MI',\n",
    "'Minnesota' : 'MN',\n",
    "'Mississippi' : 'MS',\n",
    "'Missouri' : 'MO',\n",
    "'Montana' : 'MT',\n",
    "'Nebraska' : 'NE',\n",
    "'Nevada' : 'NV',\n",
    "'New Hampshire' : 'NH',\n",
    "'New Jersey' : 'NJ',\n",
    "'New Mexico' : 'NM',\n",
    "'New York' : 'NY',\n",
    "'North Carolina' : 'NC',\n",
    "'North Dakota' : 'ND',\n",
    "'Ohio' : 'OH',\n",
    "'Oklahoma' : 'OK',\n",
    "'Oregon' : 'OR',\n",
    "'Pennsylvania' : 'PA',\n",
    "'Rhode Island' : 'RI',\n",
    "'South Carolina' : 'SC',\n",
    "'South Dakota' : 'SD',\n",
    "'Tennessee' : 'TN',\n",
    "'Texas' : 'TX',\n",
    "'Utah' : 'UT',\n",
    "'Vermont' : 'VT',\n",
    "'Virginia' : 'VA',\n",
    "'Washington' : 'WA',\n",
    "'West Virginia' : 'WV',\n",
    "'Wisconsin' : 'WI',\n",
    "'Wyoming' : 'WY'\n",
    "}"
   ]
  },
  {
   "cell_type": "markdown",
   "metadata": {},
   "source": [
    "# <span style='color:red'>Load Data</span>\n",
    "\n",
    "#### <span style='color:red'>DO NOT CALL THIS CELL CALL THE NEXT ONE BELOW!!!!</span>"
   ]
  },
  {
   "cell_type": "code",
   "execution_count": 75,
   "metadata": {},
   "outputs": [],
   "source": [
    "# DO NOT CALL THIS CELL!!!!!\n",
    "url =  \"https://api.eia.gov/series\" \n",
    "\n",
    "PARMS = {'api_key':'106ca842268ae4f59b5872302c603bf2',\n",
    "         'series_id': 'EMISS.CO2-TOTV-TT-TO-DC.A' \n",
    "        }\n",
    "\n",
    "data = []\n",
    "\n",
    "\n",
    "#Initialize an empty dataframe to begin\n",
    "df = pd.DataFrame()\n",
    "\n",
    "# Call the api multiple times for each state\n",
    "for state in _STATES.values():\n",
    "    \n",
    "    # Reconstruct the series_id string to reflect the state\n",
    "    PARMS['series_id'] = PARMS['series_id'][:21] + state + '.A'  \n",
    "    response = requests.get(url, params=PARMS)\n",
    "    data.append(response)\n",
    "    \n",
    "\n",
    "# Iterate through all the responses saved in the list called 'data'\n",
    "for tmp in data:\n",
    "    \n",
    "    #Save the dataframe to a temporary spot called '_'\n",
    "    _ = pd.DataFrame(tmp.json()['series'][0]['data'], columns = ['Year', 'Carbon_Emissions'])\n",
    "                     \n",
    "    # Create a third column called 'State' and set the defualt value to the name of the state                 \n",
    "    _['State'] = tmp.json()['series'][0]['name'].split(', ')[2]\n",
    "                     \n",
    "    #update our main dataframe with additional rows\n",
    "    df = pd.concat([df, _]) \n",
    "    \n",
    "# Pickle the data for safe keeping\n",
    "with open('dataframe_pickle', 'ab') as file:\n",
    "    pickle.dump(df, file)"
   ]
  },
  {
   "cell_type": "markdown",
   "metadata": {},
   "source": [
    "# <span style='color:green'>Load Data</span>\n",
    "\n",
    "#### <span style='color:green'>Load the data from the pickles</span>"
   ]
  },
  {
   "cell_type": "code",
   "execution_count": 107,
   "metadata": {},
   "outputs": [],
   "source": [
    "with open('dataframe_pickle', 'rb') as file:\n",
    "    df = pickle.load(file)"
   ]
  },
  {
   "cell_type": "markdown",
   "metadata": {},
   "source": [
    "# Explore Data"
   ]
  },
  {
   "cell_type": "code",
   "execution_count": 30,
   "metadata": {},
   "outputs": [
    {
     "data": {
      "text/html": [
       "<div>\n",
       "<style scoped>\n",
       "    .dataframe tbody tr th:only-of-type {\n",
       "        vertical-align: middle;\n",
       "    }\n",
       "\n",
       "    .dataframe tbody tr th {\n",
       "        vertical-align: top;\n",
       "    }\n",
       "\n",
       "    .dataframe thead th {\n",
       "        text-align: right;\n",
       "    }\n",
       "</style>\n",
       "<table border=\"1\" class=\"dataframe\">\n",
       "  <thead>\n",
       "    <tr style=\"text-align: right;\">\n",
       "      <th></th>\n",
       "      <th>Year</th>\n",
       "      <th>Carbon_Emissions</th>\n",
       "    </tr>\n",
       "  </thead>\n",
       "  <tbody>\n",
       "    <tr>\n",
       "      <th>0</th>\n",
       "      <td>2017</td>\n",
       "      <td>2.634548</td>\n",
       "    </tr>\n",
       "    <tr>\n",
       "      <th>1</th>\n",
       "      <td>2016</td>\n",
       "      <td>2.768008</td>\n",
       "    </tr>\n",
       "    <tr>\n",
       "      <th>2</th>\n",
       "      <td>2015</td>\n",
       "      <td>2.984181</td>\n",
       "    </tr>\n",
       "  </tbody>\n",
       "</table>\n",
       "</div>"
      ],
      "text/plain": [
       "   Year  Carbon_Emissions\n",
       "0  2017          2.634548\n",
       "1  2016          2.768008\n",
       "2  2015          2.984181"
      ]
     },
     "execution_count": 30,
     "metadata": {},
     "output_type": "execute_result"
    }
   ],
   "source": [
    "df.head(3)"
   ]
  }
 ],
 "metadata": {
  "kernelspec": {
   "display_name": "Python 3",
   "language": "python",
   "name": "python3"
  },
  "language_info": {
   "codemirror_mode": {
    "name": "ipython",
    "version": 3
   },
   "file_extension": ".py",
   "mimetype": "text/x-python",
   "name": "python",
   "nbconvert_exporter": "python",
   "pygments_lexer": "ipython3",
   "version": "3.7.3"
  }
 },
 "nbformat": 4,
 "nbformat_minor": 4
}
